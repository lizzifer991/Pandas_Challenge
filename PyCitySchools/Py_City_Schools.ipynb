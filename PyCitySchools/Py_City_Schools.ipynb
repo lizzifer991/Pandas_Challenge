{
 "cells": [
  {
   "cell_type": "code",
   "execution_count": 1,
   "id": "ae59899c-995c-43a1-bd84-6497f3c58491",
   "metadata": {},
   "outputs": [],
   "source": [
    "#Import Dependencies\n",
    "import pandas as pd\n",
    "import os"
   ]
  },
  {
   "cell_type": "code",
   "execution_count": 12,
   "id": "d8c07c0f-c773-4586-b739-04d596eb2a3b",
   "metadata": {},
   "outputs": [
    {
     "data": {
      "text/html": [
       "<div>\n",
       "<style scoped>\n",
       "    .dataframe tbody tr th:only-of-type {\n",
       "        vertical-align: middle;\n",
       "    }\n",
       "\n",
       "    .dataframe tbody tr th {\n",
       "        vertical-align: top;\n",
       "    }\n",
       "\n",
       "    .dataframe thead th {\n",
       "        text-align: right;\n",
       "    }\n",
       "</style>\n",
       "<table border=\"1\" class=\"dataframe\">\n",
       "  <thead>\n",
       "    <tr style=\"text-align: right;\">\n",
       "      <th></th>\n",
       "      <th>Student ID</th>\n",
       "      <th>student_name</th>\n",
       "      <th>gender</th>\n",
       "      <th>grade</th>\n",
       "      <th>school_name</th>\n",
       "      <th>reading_score</th>\n",
       "      <th>math_score</th>\n",
       "      <th>School ID</th>\n",
       "      <th>type</th>\n",
       "      <th>size</th>\n",
       "      <th>budget</th>\n",
       "    </tr>\n",
       "  </thead>\n",
       "  <tbody>\n",
       "    <tr>\n",
       "      <th>0</th>\n",
       "      <td>0</td>\n",
       "      <td>Paul Bradley</td>\n",
       "      <td>M</td>\n",
       "      <td>9th</td>\n",
       "      <td>Huang High School</td>\n",
       "      <td>66</td>\n",
       "      <td>79</td>\n",
       "      <td>0</td>\n",
       "      <td>District</td>\n",
       "      <td>2917</td>\n",
       "      <td>1910635</td>\n",
       "    </tr>\n",
       "    <tr>\n",
       "      <th>1</th>\n",
       "      <td>1</td>\n",
       "      <td>Victor Smith</td>\n",
       "      <td>M</td>\n",
       "      <td>12th</td>\n",
       "      <td>Huang High School</td>\n",
       "      <td>94</td>\n",
       "      <td>61</td>\n",
       "      <td>0</td>\n",
       "      <td>District</td>\n",
       "      <td>2917</td>\n",
       "      <td>1910635</td>\n",
       "    </tr>\n",
       "    <tr>\n",
       "      <th>2</th>\n",
       "      <td>2</td>\n",
       "      <td>Kevin Rodriguez</td>\n",
       "      <td>M</td>\n",
       "      <td>12th</td>\n",
       "      <td>Huang High School</td>\n",
       "      <td>90</td>\n",
       "      <td>60</td>\n",
       "      <td>0</td>\n",
       "      <td>District</td>\n",
       "      <td>2917</td>\n",
       "      <td>1910635</td>\n",
       "    </tr>\n",
       "    <tr>\n",
       "      <th>3</th>\n",
       "      <td>3</td>\n",
       "      <td>Dr. Richard Scott</td>\n",
       "      <td>M</td>\n",
       "      <td>12th</td>\n",
       "      <td>Huang High School</td>\n",
       "      <td>67</td>\n",
       "      <td>58</td>\n",
       "      <td>0</td>\n",
       "      <td>District</td>\n",
       "      <td>2917</td>\n",
       "      <td>1910635</td>\n",
       "    </tr>\n",
       "    <tr>\n",
       "      <th>4</th>\n",
       "      <td>4</td>\n",
       "      <td>Bonnie Ray</td>\n",
       "      <td>F</td>\n",
       "      <td>9th</td>\n",
       "      <td>Huang High School</td>\n",
       "      <td>97</td>\n",
       "      <td>84</td>\n",
       "      <td>0</td>\n",
       "      <td>District</td>\n",
       "      <td>2917</td>\n",
       "      <td>1910635</td>\n",
       "    </tr>\n",
       "  </tbody>\n",
       "</table>\n",
       "</div>"
      ],
      "text/plain": [
       "   Student ID       student_name gender grade        school_name  \\\n",
       "0           0       Paul Bradley      M   9th  Huang High School   \n",
       "1           1       Victor Smith      M  12th  Huang High School   \n",
       "2           2    Kevin Rodriguez      M  12th  Huang High School   \n",
       "3           3  Dr. Richard Scott      M  12th  Huang High School   \n",
       "4           4         Bonnie Ray      F   9th  Huang High School   \n",
       "\n",
       "   reading_score  math_score  School ID      type  size   budget  \n",
       "0             66          79          0  District  2917  1910635  \n",
       "1             94          61          0  District  2917  1910635  \n",
       "2             90          60          0  District  2917  1910635  \n",
       "3             67          58          0  District  2917  1910635  \n",
       "4             97          84          0  District  2917  1910635  "
      ]
     },
     "execution_count": 12,
     "metadata": {},
     "output_type": "execute_result"
    }
   ],
   "source": [
    "#Set Up path\n",
    "schools_to_load = \"Resources/schools_complete.csv\"\n",
    "students_to_load = \"Resources/students_complete.csv\"\n",
    "schools_df = pd.read_csv(schools_to_load)\n",
    "students_df = pd.read_csv(students_to_load)\n",
    "\n",
    "#Merge both Students_df & schools_df \n",
    "school_data_df = pd.merge(students_df, schools_df, how=\"left\", on=[\"school_name\", \"school_name\"])\n",
    "school_data_df.head()"
   ]
  },
  {
   "cell_type": "code",
   "execution_count": 23,
   "id": "ab19dbcc-201e-4973-87e0-0fac15f05f47",
   "metadata": {},
   "outputs": [],
   "source": [
    "#District Summary\n",
    "#Total Schools\n",
    "total_schools = len(schools_df)\n",
    "#Total Students\n",
    "total_students = len(students_df)\n",
    "#Total Budget\n",
    "total_budget = schools_df[\"budget\"].sum()\n",
    "#Average Math Score\n",
    "math_avg = school_data_df[\"math_score\"].mean()\n",
    "#Average Reading Score\n",
    "reading_avg = school_data_df[\"reading_score\"].mean()\n",
    "#% Passing Math (The percentage of students that passed math.) 70% is passing\n",
    "school_data_df.loc[school_data_df[\"math_score\"]>=70,\"passing_math\"] = True\n",
    "percent_math = school_data_df.groupby(\"passing_math\")[\"passing_math\"].count()/total_students * 100\n",
    "#% Passing Reading (The percentage of students that passed reading.) 70% is passing\n",
    "school_data_df.loc[school_data_df[\"reading_score\"]>=70,\"passing_reading\"] = True\n",
    "percent_reading = school_data_df.groupby(\"passing_reading\")[\"passing_reading\"].count()/total_students * 100\n",
    "#% Overall Passing (The percentage of students that passed math and reading.)\n",
    "school_data_df.loc[school_data_df[\"passing_math\"] & school_data_df[\"passing_reading\"], \"overall_passing\"] = True\n",
    "percent_overall = school_data_df.groupby(\"overall_passing\")[\"overall_passing\"].count()/total_students * 100"
   ]
  },
  {
   "cell_type": "code",
   "execution_count": 27,
   "id": "36075ed4-194a-49b7-8362-a3f2204684aa",
   "metadata": {},
   "outputs": [
    {
     "ename": "SyntaxError",
     "evalue": "invalid syntax (Temp/ipykernel_22400/4004051680.py, line 16)",
     "output_type": "error",
     "traceback": [
      "\u001b[1;36m  File \u001b[1;32m\"C:\\Users\\twozi\\AppData\\Local\\Temp/ipykernel_22400/4004051680.py\"\u001b[1;36m, line \u001b[1;32m16\u001b[0m\n\u001b[1;33m    district_df[\"% Passing Reading\"] = district_df[\"% Passing Reading\"].map(\"{:,.2f}\".format)\u001b[0m\n\u001b[1;37m    ^\u001b[0m\n\u001b[1;31mSyntaxError\u001b[0m\u001b[1;31m:\u001b[0m invalid syntax\n"
     ]
    }
   ],
   "source": [
    "#Create a dataframe to hold the above results\n",
    "district_df = pd.DataFrame({\"Total Schools\": total_schools, \n",
    "                            \"Total Students\": total_students,\n",
    "                            \"Total Budget\": total_budget,\n",
    "                            \"Average Math Score\": math_avg,\n",
    "                            \"Average Reading Score\": reading_avg,\n",
    "                            \"% Passing Math\": percent_math,\n",
    "                            \"% Passing Reading\": percent_reading,\n",
    "                            \"% Overall Passing\": percent_overall})\n",
    "#Formatting output of District_df\n",
    "district_df[\"Total Students\"] = district_df[\"Total Students\"].map(\"{:,}\".format)\n",
    "district_df[\"Total Budget\"] = district_df[\"Total Budget\"].map(\"${:,.2f}\".format)\n",
    "district_df[\"Average Math Score\"] = district_df[\"Average Math Score\"].map(\"{:,.2f}\".format)\n",
    "district_df[\"Average Reading Score\"] = district_df[\"Average Reading Score\"].map(\"{:,.2f}\".format)\n",
    "district_df[\"% Passing Math\"] = district_df[[\"% Passing Math\"].map(\"{:,.2f}\".format)\n",
    "district_df[\"% Passing Reading\"] = district_df[\"% Passing Reading\"].map(\"{:,.2f}\".format)\n",
    "district_df[\"% Overall Passing\"] = district_df[\"% Overall Passing\"].map(\"{:,.2f}\".format)\n",
    "district_df"
   ]
  },
  {
   "cell_type": "code",
   "execution_count": null,
   "id": "937fde17-e982-4a8a-853d-7029b03567fa",
   "metadata": {},
   "outputs": [],
   "source": [
    "#School Summary\n",
    "#Create an overview table that summarizes key metrics about each school, including:\n",
    "#School Name\n",
    "#School Type\n",
    "#Total Students\n",
    "#Total School Budget\n",
    "#Per Student Budget\n",
    "#Average Math Score\n",
    "#Average Reading Score\n",
    "#% Passing Math (The percentage of students that passed math.)\n",
    "#% Passing Reading (The percentage of students that passed reading.)\n",
    "#% Overall Passing (The percentage of students that passed math and reading.)"
   ]
  },
  {
   "cell_type": "code",
   "execution_count": null,
   "id": "45eb2396-3f05-4f3d-b78f-00c3cc3f053e",
   "metadata": {},
   "outputs": [],
   "source": [
    "#Top School by % overall passing\n",
    "#Create a table that highlights the top 5 performing schools based on % Overall Passing. Include:\n",
    "#School Name\n",
    "#School Type\n",
    "#Total Students\n",
    "#Total School Budget\n",
    "#Per Student Budget\n",
    "#Average Math Score\n",
    "#Average Reading Score\n",
    "#% Passing Math (The percentage of students that passed math.)\n",
    "#% Passing Reading (The percentage of students that passed reading.)\n",
    "#% Overall Passing (The percentage of students that passed math and reading.)"
   ]
  },
  {
   "cell_type": "code",
   "execution_count": null,
   "id": "3e5ac04e-8af2-4656-b3e7-b3fd3af76ced",
   "metadata": {},
   "outputs": [],
   "source": [
    "#Bottom Performing Schools by % overall passing \n",
    "#Create a table that highlights the bottom 5 performing schools based on % Overall Passing. Include all of the same metrics as above."
   ]
  },
  {
   "cell_type": "code",
   "execution_count": null,
   "id": "cd47ecab-64fa-4a58-a291-7bbeaa386a79",
   "metadata": {},
   "outputs": [],
   "source": [
    "#Math Scores by Grade\n",
    "#Create a table that lists the average Math Score for students of each grade level (9th, 10th, 11th, 12th) at each school."
   ]
  },
  {
   "cell_type": "code",
   "execution_count": null,
   "id": "7c11bd74-13fc-4acf-a1ac-e9501787dcda",
   "metadata": {},
   "outputs": [],
   "source": [
    "#Reading Scores by Grade\n",
    "#Create a table that lists the average Reading Score for students of each grade level (9th, 10th, 11th, 12th) at each school."
   ]
  },
  {
   "cell_type": "code",
   "execution_count": null,
   "id": "89f98475-048a-4f08-b95d-a7b08698f3b6",
   "metadata": {},
   "outputs": [],
   "source": [
    "#Scores by School Spending\n",
    "#Create a table that breaks down school performances based on average Spending Ranges (Per Student). Use 4 reasonable bins to group school spending. Include in the table each of the following:\n",
    "#Average Math Score\n",
    "#Average Reading Score\n",
    "#% Passing Math (The percentage of students that passed math.)\n",
    "#% Passing Reading (The percentage of students that passed reading.)\n",
    "#% Overall Passing (The percentage of students that passed math and reading.)"
   ]
  },
  {
   "cell_type": "code",
   "execution_count": null,
   "id": "766776ac-3aa9-4243-9347-f8281da9bb41",
   "metadata": {},
   "outputs": [],
   "source": [
    "#Scores by School Size\n",
    "#Repeat the above breakdown, but this time group schools based on a reasonable approximation of school size (Small, Medium, Large)."
   ]
  },
  {
   "cell_type": "code",
   "execution_count": null,
   "id": "adb4902c-e958-4d52-8420-f3c4c511a6bd",
   "metadata": {},
   "outputs": [],
   "source": [
    "#Scores by School Type\n",
    "#Repeat the above breakdown, but this time group schools based on school type (Charter vs. District)."
   ]
  }
 ],
 "metadata": {
  "kernelspec": {
   "display_name": "Python 3 (ipykernel)",
   "language": "python",
   "name": "python3"
  },
  "language_info": {
   "codemirror_mode": {
    "name": "ipython",
    "version": 3
   },
   "file_extension": ".py",
   "mimetype": "text/x-python",
   "name": "python",
   "nbconvert_exporter": "python",
   "pygments_lexer": "ipython3",
   "version": "3.9.7"
  }
 },
 "nbformat": 4,
 "nbformat_minor": 5
}
