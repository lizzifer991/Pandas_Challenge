{
 "cells": [
  {
   "cell_type": "code",
   "execution_count": 1,
   "id": "ae59899c-995c-43a1-bd84-6497f3c58491",
   "metadata": {},
   "outputs": [],
   "source": [
    "#Import Dependencies\n",
    "import pandas as pd"
   ]
  },
  {
   "cell_type": "code",
   "execution_count": 6,
   "id": "d8c07c0f-c773-4586-b739-04d596eb2a3b",
   "metadata": {},
   "outputs": [
    {
     "ename": "NameError",
     "evalue": "name 'students_df' is not defined",
     "output_type": "error",
     "traceback": [
      "\u001b[1;31m---------------------------------------------------------------------------\u001b[0m",
      "\u001b[1;31mNameError\u001b[0m                                 Traceback (most recent call last)",
      "\u001b[1;32m~\\AppData\\Local\\Temp/ipykernel_15808/3236054294.py\u001b[0m in \u001b[0;36m<module>\u001b[1;34m\u001b[0m\n\u001b[0;32m      6\u001b[0m \u001b[1;33m\u001b[0m\u001b[0m\n\u001b[0;32m      7\u001b[0m \u001b[1;31m#Merge both Students_df & schools_df\u001b[0m\u001b[1;33m\u001b[0m\u001b[1;33m\u001b[0m\u001b[0m\n\u001b[1;32m----> 8\u001b[1;33m \u001b[0mcomplete_school_data_df\u001b[0m \u001b[1;33m=\u001b[0m \u001b[0mpd\u001b[0m\u001b[1;33m.\u001b[0m\u001b[0mmerge\u001b[0m\u001b[1;33m(\u001b[0m\u001b[0mstudents_df\u001b[0m\u001b[1;33m,\u001b[0m \u001b[0mschools_df\u001b[0m\u001b[1;33m,\u001b[0m \u001b[0mhow\u001b[0m\u001b[1;33m=\u001b[0m\u001b[1;34m\"left\"\u001b[0m\u001b[1;33m,\u001b[0m \u001b[0mon\u001b[0m\u001b[1;33m=\u001b[0m\u001b[1;33m[\u001b[0m\u001b[1;34m\"school_name\"\u001b[0m\u001b[1;33m,\u001b[0m \u001b[1;34m\"school_name\"\u001b[0m\u001b[1;33m]\u001b[0m\u001b[1;33m)\u001b[0m\u001b[1;33m\u001b[0m\u001b[1;33m\u001b[0m\u001b[0m\n\u001b[0m\u001b[0;32m      9\u001b[0m \u001b[0mcomplete_school_data_df\u001b[0m\u001b[1;33m\u001b[0m\u001b[1;33m\u001b[0m\u001b[0m\n",
      "\u001b[1;31mNameError\u001b[0m: name 'students_df' is not defined"
     ]
    }
   ],
   "source": [
    "#Set Up path\n",
    "schools_to_load = \"Resources/schools_complete.csv\"\n",
    "students_to_load = \"Resources/students_complete.csv\"\n",
    "schools_df = pd.read_csv(schools_to_load)\n",
    "student_df = pd.read_csv(students_to_load)\n",
    "\n",
    "#Merge both Students_df & schools_df \n",
    "complete_school_data_df = pd.merge(student_df, schools_df, how=\"left\", on=[\"school_name\", \"school_name\"])\n",
    "complete_school_data_df"
   ]
  },
  {
   "cell_type": "code",
   "execution_count": null,
   "id": "448e0cc1-3962-45df-b648-5d70a99007ba",
   "metadata": {},
   "outputs": [],
   "source": []
  },
  {
   "cell_type": "code",
   "execution_count": null,
   "id": "30888c23-b366-463d-a285-e7c56220a37e",
   "metadata": {},
   "outputs": [],
   "source": [
    "#District Summary\n",
    "#Create a high level snapshot (in table form) of the district's key metrics, including:\n",
    "#Total Schools\n",
    "#Total Students\n",
    "#Total Budget\n",
    "#Average Math Score\n",
    "#Average Reading Score\n",
    "#% Passing Math (The percentage of students that passed math.)\n",
    "#% Passing Reading (The percentage of students that passed reading.)\n",
    "#% Overall Passing (The percentage of students that passed math and reading.)"
   ]
  },
  {
   "cell_type": "code",
   "execution_count": null,
   "id": "937fde17-e982-4a8a-853d-7029b03567fa",
   "metadata": {},
   "outputs": [],
   "source": [
    "#School Summary\n",
    "#Create an overview table that summarizes key metrics about each school, including:\n",
    "#School Name\n",
    "#School Type\n",
    "#Total Students\n",
    "#Total School Budget\n",
    "#Per Student Budget\n",
    "#Average Math Score\n",
    "#Average Reading Score\n",
    "#% Passing Math (The percentage of students that passed math.)\n",
    "#% Passing Reading (The percentage of students that passed reading.)\n",
    "#% Overall Passing (The percentage of students that passed math and reading.)"
   ]
  },
  {
   "cell_type": "code",
   "execution_count": null,
   "id": "45eb2396-3f05-4f3d-b78f-00c3cc3f053e",
   "metadata": {},
   "outputs": [],
   "source": [
    "#Top School by % overall passing\n",
    "#Create a table that highlights the top 5 performing schools based on % Overall Passing. Include:\n",
    "#School Name\n",
    "#School Type\n",
    "#Total Students\n",
    "#Total School Budget\n",
    "#Per Student Budget\n",
    "#Average Math Score\n",
    "#Average Reading Score\n",
    "#% Passing Math (The percentage of students that passed math.)\n",
    "#% Passing Reading (The percentage of students that passed reading.)\n",
    "#% Overall Passing (The percentage of students that passed math and reading.)"
   ]
  },
  {
   "cell_type": "code",
   "execution_count": null,
   "id": "3e5ac04e-8af2-4656-b3e7-b3fd3af76ced",
   "metadata": {},
   "outputs": [],
   "source": [
    "#Bottom Performing Schools by % overall passing \n",
    "#Create a table that highlights the bottom 5 performing schools based on % Overall Passing. Include all of the same metrics as above."
   ]
  },
  {
   "cell_type": "code",
   "execution_count": null,
   "id": "cd47ecab-64fa-4a58-a291-7bbeaa386a79",
   "metadata": {},
   "outputs": [],
   "source": [
    "#Math Scores by Grade\n",
    "#Create a table that lists the average Math Score for students of each grade level (9th, 10th, 11th, 12th) at each school."
   ]
  },
  {
   "cell_type": "code",
   "execution_count": null,
   "id": "7c11bd74-13fc-4acf-a1ac-e9501787dcda",
   "metadata": {},
   "outputs": [],
   "source": [
    "#Reading Scores by Grade\n",
    "#Create a table that lists the average Reading Score for students of each grade level (9th, 10th, 11th, 12th) at each school."
   ]
  },
  {
   "cell_type": "code",
   "execution_count": null,
   "id": "89f98475-048a-4f08-b95d-a7b08698f3b6",
   "metadata": {},
   "outputs": [],
   "source": [
    "#Scores by School Spending\n",
    "#Create a table that breaks down school performances based on average Spending Ranges (Per Student). Use 4 reasonable bins to group school spending. Include in the table each of the following:\n",
    "#Average Math Score\n",
    "#Average Reading Score\n",
    "#% Passing Math (The percentage of students that passed math.)\n",
    "#% Passing Reading (The percentage of students that passed reading.)\n",
    "#% Overall Passing (The percentage of students that passed math and reading.)"
   ]
  },
  {
   "cell_type": "code",
   "execution_count": null,
   "id": "766776ac-3aa9-4243-9347-f8281da9bb41",
   "metadata": {},
   "outputs": [],
   "source": [
    "#Scores by School Size\n",
    "#Repeat the above breakdown, but this time group schools based on a reasonable approximation of school size (Small, Medium, Large)."
   ]
  },
  {
   "cell_type": "code",
   "execution_count": null,
   "id": "adb4902c-e958-4d52-8420-f3c4c511a6bd",
   "metadata": {},
   "outputs": [],
   "source": [
    "#Scores by School Type\n",
    "#Repeat the above breakdown, but this time group schools based on school type (Charter vs. District)."
   ]
  }
 ],
 "metadata": {
  "kernelspec": {
   "display_name": "Python 3 (ipykernel)",
   "language": "python",
   "name": "python3"
  },
  "language_info": {
   "codemirror_mode": {
    "name": "ipython",
    "version": 3
   },
   "file_extension": ".py",
   "mimetype": "text/x-python",
   "name": "python",
   "nbconvert_exporter": "python",
   "pygments_lexer": "ipython3",
   "version": "3.9.7"
  }
 },
 "nbformat": 4,
 "nbformat_minor": 5
}
